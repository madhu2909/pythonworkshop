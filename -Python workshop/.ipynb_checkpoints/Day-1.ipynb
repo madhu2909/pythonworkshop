{
 "cells": [
  {
   "cell_type": "markdown",
   "metadata": {},
   "source": [
    "# Headings\n",
    "## Heading1\n",
    "## Heading2\n",
    "### Heading3\n",
    "# Bold\n",
    "**welcome**\n",
    "\n",
    "# Italic\n",
    "\n",
    "*pythonworkshop*\n",
    "\n",
    "# Both Bold & Italic\n",
    "\n",
    "***Hello***\n",
    "\n",
    "# Handling Images\n",
    "## offline image\n",
    "## online Image\n",
    "<img src=\"\">"
   ]
  },
  {
   "cell_type": "code",
   "execution_count": null,
   "metadata": {},
   "outputs": [],
   "source": []
  },
  {
   "cell_type": "markdown",
   "metadata": {},
   "source": [
    "# Unorder list\n",
    "1.Django\n",
    "\n",
    "2.Flask\n",
    "\n",
    "3.Bottle\n",
    "\n",
    "\n",
    "-cherrrypy"
   ]
  },
  {
   "cell_type": "markdown",
   "metadata": {},
   "source": [
    "# Introduction To Python\n",
    "\n",
    "# History Of Python\n",
    "\n",
    "# Variable Declaration\n",
    "\n",
    "# Keywords or Reservedwords\n",
    "\n",
    "# Operators in Python\n",
    "\n",
    "# Comments in Python\n",
    "\n",
    "# Control flow statements"
   ]
  }
 ],
 "metadata": {
  "kernelspec": {
   "display_name": "Python 3",
   "language": "python",
   "name": "python3"
  },
  "language_info": {
   "codemirror_mode": {
    "name": "ipython",
    "version": 3
   },
   "file_extension": ".py",
   "mimetype": "text/x-python",
   "name": "python",
   "nbconvert_exporter": "python",
   "pygments_lexer": "ipython3",
   "version": "3.7.3"
  }
 },
 "nbformat": 4,
 "nbformat_minor": 2
}
