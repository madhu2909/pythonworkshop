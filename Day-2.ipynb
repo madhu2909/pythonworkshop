{
 "cells": [
  {
   "cell_type": "markdown",
   "metadata": {},
   "source": [
    "# To Day Agenda\n",
    "\n",
    "+ Execution of Commands in Python Shell\n",
    "- Data Types\n",
    "   + int\n",
    "   + float\n",
    "   + bool\n",
    "   - complex\n",
    "   + str\n",
    "+ I/P And O/P\n",
    "+ Program Execution in idle\n",
    "- Program Execution in Command prompt\n",
    "\n",
    "+ Git Hub Account Creation"
   ]
  }
 ],
 "metadata": {
  "kernelspec": {
   "display_name": "Python 3",
   "language": "python",
   "name": "python3"
  },
  "language_info": {
   "codemirror_mode": {
    "name": "ipython",
    "version": 3
   },
   "file_extension": ".py",
   "mimetype": "text/x-python",
   "name": "python",
   "nbconvert_exporter": "python",
   "pygments_lexer": "ipython3",
   "version": "3.7.3"
  }
 },
 "nbformat": 4,
 "nbformat_minor": 2
}
